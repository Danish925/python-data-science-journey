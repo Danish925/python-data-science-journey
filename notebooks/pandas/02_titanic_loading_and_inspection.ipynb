{
 "cells": [
  {
   "cell_type": "markdown",
   "id": "e5a2fab2-1e8d-437a-a175-6f1bde31a2c4",
   "metadata": {},
   "source": [
    "# 🚢 Part 2: Titanic Dataset - Loading and First Look\n",
    "\n",
    "**Goal:** To practice loading real-world data directly from a URL and perform essential initial data assessment, which is crucial for any data science project's starting phase.\n",
    "\n",
    "---\n",
    "### Key Learning Objectives\n",
    "1.  Load data using `pd.read_csv()` from an external URL.\n",
    "2.  Use the `head()`, `tail()`, and `.shape` methods for quick data inspection.\n",
    "3.  Utilize `info()` and `describe()` to understand data types and statistics.\n",
    "4.  Perform a simple scan for **missing values** using `.isnull().sum()`."
   ]
  },
  {
   "cell_type": "code",
   "execution_count": 1,
   "id": "941a5623-f6fd-4881-a352-54377ca8f16c",
   "metadata": {},
   "outputs": [
    {
     "name": "stdout",
     "output_type": "stream",
     "text": [
      "--- Data Frame Preview ---\n",
      "   PassengerId  Survived  Pclass  \\\n",
      "0            1         0       3   \n",
      "1            2         1       1   \n",
      "2            3         1       3   \n",
      "3            4         1       1   \n",
      "4            5         0       3   \n",
      "\n",
      "                                                Name     Sex   Age  SibSp  \\\n",
      "0                            Braund, Mr. Owen Harris    male  22.0      1   \n",
      "1  Cumings, Mrs. John Bradley (Florence Briggs Th...  female  38.0      1   \n",
      "2                             Heikkinen, Miss. Laina  female  26.0      0   \n",
      "3       Futrelle, Mrs. Jacques Heath (Lily May Peel)  female  35.0      1   \n",
      "4                           Allen, Mr. William Henry    male  35.0      0   \n",
      "\n",
      "   Parch            Ticket     Fare Cabin Embarked  \n",
      "0      0         A/5 21171   7.2500   NaN        S  \n",
      "1      0          PC 17599  71.2833   C85        C  \n",
      "2      0  STON/O2. 3101282   7.9250   NaN        S  \n",
      "3      0            113803  53.1000  C123        S  \n",
      "4      0            373450   8.0500   NaN        S  \n"
     ]
    }
   ],
   "source": [
    "import os\n",
    "import pandas as pd\n",
    "\n",
    "# Load Titanic dataset from a reliable URL\n",
    "url = 'https://raw.githubusercontent.com/datasciencedojo/datasets/master/titanic.csv'\n",
    "titanic_df = pd.read_csv(url)\n",
    "\n",
    "print(\"--- Data Frame Preview ---\")\n",
    "print(titanic_df.head())"
   ]
  },
  {
   "cell_type": "markdown",
   "id": "6906cbd7-914d-42f4-8d20-69c538c81c2b",
   "metadata": {},
   "source": [
    "## 2. Loading Real-World Data\n",
    "\n",
    "Unlike the simple dictionary-based DataFrame in Part 1, real-world data is typically loaded from a file using `pd.read_csv()`. Pandas can handle local file paths or web URLs, providing seamless access to external datasets like the famous Titanic passenger manifest."
   ]
  },
  {
   "cell_type": "code",
   "execution_count": 2,
   "id": "e52665c2-1627-49ee-bef2-ce6006b808e1",
   "metadata": {},
   "outputs": [
    {
     "name": "stdout",
     "output_type": "stream",
     "text": [
      "=== FIRST 5 ROWS ===\n",
      "   PassengerId  Survived  Pclass  \\\n",
      "0            1         0       3   \n",
      "1            2         1       1   \n",
      "2            3         1       3   \n",
      "3            4         1       1   \n",
      "4            5         0       3   \n",
      "\n",
      "                                                Name     Sex   Age  SibSp  \\\n",
      "0                            Braund, Mr. Owen Harris    male  22.0      1   \n",
      "1  Cumings, Mrs. John Bradley (Florence Briggs Th...  female  38.0      1   \n",
      "2                             Heikkinen, Miss. Laina  female  26.0      0   \n",
      "3       Futrelle, Mrs. Jacques Heath (Lily May Peel)  female  35.0      1   \n",
      "4                           Allen, Mr. William Henry    male  35.0      0   \n",
      "\n",
      "   Parch            Ticket     Fare Cabin Embarked  \n",
      "0      0         A/5 21171   7.2500   NaN        S  \n",
      "1      0          PC 17599  71.2833   C85        C  \n",
      "2      0  STON/O2. 3101282   7.9250   NaN        S  \n",
      "3      0            113803  53.1000  C123        S  \n",
      "4      0            373450   8.0500   NaN        S  \n",
      "\n",
      "=== LAST 5 ROWS ===\n",
      "     PassengerId  Survived  Pclass                                      Name  \\\n",
      "886          887         0       2                     Montvila, Rev. Juozas   \n",
      "887          888         1       1              Graham, Miss. Margaret Edith   \n",
      "888          889         0       3  Johnston, Miss. Catherine Helen \"Carrie\"   \n",
      "889          890         1       1                     Behr, Mr. Karl Howell   \n",
      "890          891         0       3                       Dooley, Mr. Patrick   \n",
      "\n",
      "        Sex   Age  SibSp  Parch      Ticket   Fare Cabin Embarked  \n",
      "886    male  27.0      0      0      211536  13.00   NaN        S  \n",
      "887  female  19.0      0      0      112053  30.00   B42        S  \n",
      "888  female   NaN      1      2  W./C. 6607  23.45   NaN        S  \n",
      "889    male  26.0      0      0      111369  30.00  C148        C  \n",
      "890    male  32.0      0      0      370376   7.75   NaN        Q  \n",
      "\n",
      "=== SHAPE (rows, columns) ===\n",
      "(891, 12)\n",
      "\n",
      "=== COLUMNS ===\n",
      "['PassengerId', 'Survived', 'Pclass', 'Name', 'Sex', 'Age', 'SibSp', 'Parch', 'Ticket', 'Fare', 'Cabin', 'Embarked']\n"
     ]
    }
   ],
   "source": [
    "print(\"=== FIRST 5 ROWS ===\")\n",
    "print(titanic_df.head())\n",
    "\n",
    "print(\"\\n=== LAST 5 ROWS ===\")\n",
    "print(titanic_df.tail())\n",
    "\n",
    "print(\"\\n=== SHAPE (rows, columns) ===\")\n",
    "print(titanic_df.shape)\n",
    "\n",
    "print(\"\\n=== COLUMNS ===\")\n",
    "print(list(titanic_df.columns))"
   ]
  },
  {
   "cell_type": "markdown",
   "id": "9b16cacd-6e5a-416b-8fb8-7fa421d35c7b",
   "metadata": {},
   "source": [
    "## 3. Dimensions and Boundaries\n",
    "\n",
    "Checking the **`.head()`** (top rows) and **`.tail()`** (bottom rows) ensures the data loaded correctly and gives a first impression of the values. The **`.shape`** attribute provides the exact dimensions, confirming the total number of passengers (rows) and attributes (columns)."
   ]
  },
  {
   "cell_type": "code",
   "execution_count": 3,
   "id": "34a936f9-3d04-440f-a8bb-ba4b2316d494",
   "metadata": {},
   "outputs": [
    {
     "name": "stdout",
     "output_type": "stream",
     "text": [
      "=== INFO: Data Types and Non-Null Counts ===\n",
      "<class 'pandas.core.frame.DataFrame'>\n",
      "RangeIndex: 891 entries, 0 to 890\n",
      "Data columns (total 12 columns):\n",
      " #   Column       Non-Null Count  Dtype  \n",
      "---  ------       --------------  -----  \n",
      " 0   PassengerId  891 non-null    int64  \n",
      " 1   Survived     891 non-null    int64  \n",
      " 2   Pclass       891 non-null    int64  \n",
      " 3   Name         891 non-null    object \n",
      " 4   Sex          891 non-null    object \n",
      " 5   Age          714 non-null    float64\n",
      " 6   SibSp        891 non-null    int64  \n",
      " 7   Parch        891 non-null    int64  \n",
      " 8   Ticket       891 non-null    object \n",
      " 9   Fare         891 non-null    float64\n",
      " 10  Cabin        204 non-null    object \n",
      " 11  Embarked     889 non-null    object \n",
      "dtypes: float64(2), int64(5), object(5)\n",
      "memory usage: 83.7+ KB\n",
      "\n",
      "=== DESCRIBE: Basic Statistics for Numeric Columns ===\n",
      "       PassengerId    Survived      Pclass         Age       SibSp  \\\n",
      "count   891.000000  891.000000  891.000000  714.000000  891.000000   \n",
      "mean    446.000000    0.383838    2.308642   29.699118    0.523008   \n",
      "std     257.353842    0.486592    0.836071   14.526497    1.102743   \n",
      "min       1.000000    0.000000    1.000000    0.420000    0.000000   \n",
      "25%     223.500000    0.000000    2.000000   20.125000    0.000000   \n",
      "50%     446.000000    0.000000    3.000000   28.000000    0.000000   \n",
      "75%     668.500000    1.000000    3.000000   38.000000    1.000000   \n",
      "max     891.000000    1.000000    3.000000   80.000000    8.000000   \n",
      "\n",
      "            Parch        Fare  \n",
      "count  891.000000  891.000000  \n",
      "mean     0.381594   32.204208  \n",
      "std      0.806057   49.693429  \n",
      "min      0.000000    0.000000  \n",
      "25%      0.000000    7.910400  \n",
      "50%      0.000000   14.454200  \n",
      "75%      0.000000   31.000000  \n",
      "max      6.000000  512.329200  \n"
     ]
    }
   ],
   "source": [
    "print(\"=== INFO: Data Types and Non-Null Counts ===\")\n",
    "titanic_df.info()\n",
    "\n",
    "print(\"\\n=== DESCRIBE: Basic Statistics for Numeric Columns ===\")\n",
    "print(titanic_df.describe())"
   ]
  },
  {
   "cell_type": "markdown",
   "id": "750fa154-a41a-435c-bfe7-234001e9a243",
   "metadata": {},
   "source": [
    "## 4. Understanding Data Structure\n",
    "\n",
    "* **`df.info()`**: Shows the data type (`Dtype`) for each column and the count of non-null entries. This is the **primary tool** for identifying columns with missing data at a glance.\n",
    "* **`df.describe()`**: Calculates descriptive statistics (count, mean, standard deviation, min/max, quartiles) for all numeric columns. This helps quickly assess data distribution and detect potential outliers."
   ]
  },
  {
   "cell_type": "code",
   "execution_count": 4,
   "id": "c4a67759-32c0-4a2b-8b62-edccb2ab4884",
   "metadata": {},
   "outputs": [
    {
     "name": "stdout",
     "output_type": "stream",
     "text": [
      "=== Survival Counts (0=Died, 1=Survived) ===\n",
      "Survived\n",
      "0    549\n",
      "1    342\n",
      "Name: count, dtype: int64\n",
      "\n",
      "=== Pclass Counts (Passenger Class) ===\n",
      "Pclass\n",
      "1    216\n",
      "2    184\n",
      "3    491\n",
      "Name: count, dtype: int64\n",
      "\n",
      "=== Missing values per column (only columns with missing data) ===\n",
      "Age         177\n",
      "Cabin       687\n",
      "Embarked      2\n",
      "dtype: int64\n"
     ]
    }
   ],
   "source": [
    "# Simple counts\n",
    "print(\"=== Survival Counts (0=Died, 1=Survived) ===\")\n",
    "print(titanic_df['Survived'].value_counts())\n",
    "\n",
    "print(\"\\n=== Pclass Counts (Passenger Class) ===\")\n",
    "print(titanic_df['Pclass'].value_counts().sort_index())\n",
    "\n",
    "# Missing-data scan\n",
    "missing_data = titanic_df.isnull().sum()\n",
    "print(\"\\n=== Missing values per column (only columns with missing data) ===\")\n",
    "print(missing_data[missing_data > 0])"
   ]
  },
  {
   "cell_type": "markdown",
   "id": "c1c4a5a7-8b56-4efa-8c67-0a7660af0a25",
   "metadata": {},
   "source": [
    "## 5. Identifying Gaps (Missing Data)\n",
    "\n",
    "The combination of `.isnull()` (checks for nulls) and `.sum()` (counts the total `True` values) provides a quick summary of data quality. We see that the **Age**, **Cabin**, and **Embarked** columns have missing values, which will require attention (imputation or dropping) in later steps."
   ]
  },
  {
   "cell_type": "code",
   "execution_count": 5,
   "id": "1d5ff2ab-92dc-4067-a16a-dbe51a537599",
   "metadata": {},
   "outputs": [
    {
     "name": "stdout",
     "output_type": "stream",
     "text": [
      "\n",
      "TITANIC DATASET ANALYSIS SUMMARY\n",
      "================================\n",
      "\n",
      "Initial Status: 891 passengers, 12 columns loaded.\n",
      "Data Quality Alert: Age, Cabin, and Embarked columns contain missing values.\n",
      "Survival Rate Preview: 38.38% of passengers in this dataset survived.\n",
      "\n",
      "Next Steps:\n",
      "- Apply filtering and grouping techniques to analyze survival rates by categorical features (Sex, Pclass).\n",
      "- Address the identified missing data points.\n",
      "\n",
      "\n",
      "Saved snapshot for next notebook: data-visualization/data/titanic_snapshot.csv\n"
     ]
    }
   ],
   "source": [
    "# Summary\n",
    "summary = f\"\"\"\n",
    "TITANIC DATASET ANALYSIS SUMMARY\n",
    "================================\n",
    "\n",
    "Initial Status: {titanic_df.shape[0]} passengers, {titanic_df.shape[1]} columns loaded.\n",
    "Data Quality Alert: Age, Cabin, and Embarked columns contain missing values.\n",
    "Survival Rate Preview: {titanic_df['Survived'].mean():.2%} of passengers in this dataset survived.\n",
    "\n",
    "Next Steps:\n",
    "- Apply filtering and grouping techniques to analyze survival rates by categorical features (Sex, Pclass).\n",
    "- Address the identified missing data points.\n",
    "\"\"\"\n",
    "print(summary)\n",
    "\n",
    "# Save snapshot for next steps\n",
    "os.makedirs('data-visualization/data', exist_ok=True)\n",
    "titanic_df.to_csv('data-visualization/data/titanic_snapshot.csv', index=False)\n",
    "print(\"\\nSaved snapshot for next notebook: data-visualization/data/titanic_snapshot.csv\")"
   ]
  },
  {
   "cell_type": "code",
   "execution_count": null,
   "id": "9c038563-59ca-4d05-a4fb-960a30e36b14",
   "metadata": {},
   "outputs": [],
   "source": []
  }
 ],
 "metadata": {
  "kernelspec": {
   "display_name": "Python [conda env:base] *",
   "language": "python",
   "name": "conda-base-py"
  },
  "language_info": {
   "codemirror_mode": {
    "name": "ipython",
    "version": 3
   },
   "file_extension": ".py",
   "mimetype": "text/x-python",
   "name": "python",
   "nbconvert_exporter": "python",
   "pygments_lexer": "ipython3",
   "version": "3.13.5"
  }
 },
 "nbformat": 4,
 "nbformat_minor": 5
}
