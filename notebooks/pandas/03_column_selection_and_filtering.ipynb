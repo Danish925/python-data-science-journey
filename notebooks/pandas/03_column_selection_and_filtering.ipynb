{
 "cells": [
  {
   "cell_type": "markdown",
   "id": "52a6cdc4-8ea6-43a6-a19e-7b087dfbff33",
   "metadata": {},
   "source": [
    "# 🔪 Part 3: Data Slicing and Aggregation (Select, Filter, GroupBy)\n",
    "\n",
    "**Goal:** To master the core Pandas techniques used to target specific data subsets and calculate aggregated statistics, which are fundamental to Exploratory Data Analysis (EDA).\n",
    "\n",
    "---\n",
    "### Key Learning Objectives\n",
    "1.  Select single and multiple columns using bracket (`[]`) and dot (`.`) notation.\n",
    "2.  Filter rows based on single and multiple **boolean conditions** (`&` for AND, `|` for OR).\n",
    "3.  Sort the data by one or more columns using `sort_values()`.\n",
    "4.  Use the powerful **`groupby()`** method to calculate aggregated statistics."
   ]
  },
  {
   "cell_type": "code",
   "execution_count": 7,
   "id": "3956e932-e0c2-46e4-a75e-278f42594a4c",
   "metadata": {},
   "outputs": [
    {
     "name": "stdout",
     "output_type": "stream",
     "text": [
      "Data loaded successfully!\n",
      "Shape: (891, 12)\n",
      "Columns: ['PassengerId', 'Survived', 'Pclass', 'Name', 'Sex', 'Age', 'SibSp', 'Parch', 'Ticket', 'Fare', 'Cabin', 'Embarked']\n",
      "\n"
     ]
    }
   ],
   "source": [
    "import pandas as pd\n",
    "import os\n",
    "\n",
    "# Load the Titanic dataset\n",
    "try:\n",
    "    # NOTE: Assuming 'titanic_snapshot.csv' exists from the previous notebook's export\n",
    "    titanic_df = pd.read_csv('data-visualization/data/titanic_snapshot.csv')\n",
    "except FileNotFoundError:\n",
    "    # Fallback to URL if local file isn't available\n",
    "    url = 'https://raw.githubusercontent.com/datasciencedojo/datasets/master/titanic.csv'\n",
    "    titanic_df = pd.read_csv(url)\n",
    "\n",
    "print(\"Data loaded successfully!\")\n",
    "print(f\"Shape: {titanic_df.shape}\")\n",
    "print(f\"Columns: {list(titanic_df.columns)}\\n\")"
   ]
  },
  {
   "cell_type": "markdown",
   "id": "5b8016ac-13ce-4fd3-8245-4017a0f178be",
   "metadata": {},
   "source": [
    "## 1. Selecting Columns\n",
    "\n",
    "Selecting the right columns is the first step in focusing your analysis. Pandas offers flexible methods for this:\n",
    "\n",
    "* **Single Column:** Returns a Pandas **Series** (1D). You can use the dictionary-style syntax (`df['ColumnName']`) or, for simple names, **dot notation** (`df.ColumnName`).\n",
    "* **Multiple Columns:** Requires passing a **list of column names** inside the brackets (`df[['Col1', 'Col2']]`), which always returns a **DataFrame** (2D).\n",
    "* **By Type:** The **`.select_dtypes()`** method is useful for automatically grabbing all **numeric** or **text (`object`)** columns at once."
   ]
  },
  {
   "cell_type": "code",
   "execution_count": 8,
   "id": "36f65d83-4e81-46b9-8b33-63a4f0deda43",
   "metadata": {},
   "outputs": [
    {
     "name": "stdout",
     "output_type": "stream",
     "text": [
      "Type: <class 'pandas.core.series.Series'>\n",
      "First 5 names:\n",
      "0                              Braund, Mr. Owen Harris\n",
      "1    Cumings, Mrs. John Bradley (Florence Briggs Th...\n",
      "2                               Heikkinen, Miss. Laina\n",
      "3         Futrelle, Mrs. Jacques Heath (Lily May Peel)\n",
      "4                             Allen, Mr. William Henry\n",
      "Name: Name, dtype: object\n",
      "\n",
      "Type: <class 'pandas.core.frame.DataFrame'>\n",
      "Basic info (first 5 rows):\n",
      "                                                Name   Age     Sex  Survived\n",
      "0                            Braund, Mr. Owen Harris  22.0    male         0\n",
      "1  Cumings, Mrs. John Bradley (Florence Briggs Th...  38.0  female         1\n",
      "2                             Heikkinen, Miss. Laina  26.0  female         1\n",
      "3       Futrelle, Mrs. Jacques Heath (Lily May Peel)  35.0  female         1\n",
      "4                           Allen, Mr. William Henry  35.0    male         0\n",
      "\n",
      "Numeric columns:\n",
      "PassengerId      int64\n",
      "Survived         int64\n",
      "Pclass           int64\n",
      "Age            float64\n",
      "SibSp            int64\n",
      "Parch            int64\n",
      "Fare           float64\n",
      "dtype: object\n"
     ]
    }
   ],
   "source": [
    "# Single column selection (Series)\n",
    "names = titanic_df['Name']\n",
    "print(f\"Type: {type(names)}\")\n",
    "print(\"First 5 names:\")\n",
    "print(names.head())\n",
    "\n",
    "# Multiple columns selection (DataFrame)\n",
    "basic_info = titanic_df[['Name', 'Age', 'Sex', 'Survived']]\n",
    "print(f\"\\nType: {type(basic_info)}\")\n",
    "print(\"Basic info (first 5 rows):\")\n",
    "print(basic_info.head())\n",
    "\n",
    "# Selection by Data Type\n",
    "numeric_data = titanic_df.select_dtypes(include=['number'])\n",
    "print(\"\\nNumeric columns:\")\n",
    "print(numeric_data.dtypes)"
   ]
  },
  {
   "cell_type": "markdown",
   "id": "e5c22f9d-9b79-4b67-812d-2edef5945a0d",
   "metadata": {},
   "source": [
    "## 2. Filtering Data (Boolean Masking)\n",
    "\n",
    "Filtering, or **subsetting**, allows you to select only rows that meet specific conditions.\n",
    "\n",
    "* **Single Condition:** Create a boolean Series (True/False) and pass it to the DataFrame: `df[df['Age'] > 30]`.\n",
    "* **Multiple Conditions:** Conditions must be wrapped in **parentheses** and combined using:\n",
    "    * **AND** operator: `&`\n",
    "    * **OR** operator: `|`"
   ]
  },
  {
   "cell_type": "code",
   "execution_count": 9,
   "id": "b19a11a9-07d8-42a5-a3c0-f4b166c1b9d7",
   "metadata": {},
   "outputs": [
    {
     "name": "stdout",
     "output_type": "stream",
     "text": [
      "Total passengers: 891\n",
      "Female passengers: 314 (35.2%)\n",
      "\n",
      "Young women (under 30): 147\n",
      "First-class women who survived: 91\n",
      "\n",
      "Example: Elite survivors\n",
      "                                                 Name   Age  Pclass      Fare\n",
      "1   Cumings, Mrs. John Bradley (Florence Briggs Th...  38.0       1   71.2833\n",
      "3        Futrelle, Mrs. Jacques Heath (Lily May Peel)  35.0       1   53.1000\n",
      "11                           Bonnell, Miss. Elizabeth  58.0       1   26.5500\n",
      "31     Spencer, Mrs. William Augustus (Marie Eugenie)   NaN       1  146.5208\n",
      "52           Harper, Mrs. Henry Sleeper (Myna Haxtun)  49.0       1   76.7292\n"
     ]
    }
   ],
   "source": [
    "# Single condition filtering\n",
    "women = titanic_df[titanic_df['Sex'] == 'female']\n",
    "print(f\"Total passengers: {len(titanic_df)}\")\n",
    "print(f\"Female passengers: {len(women)} ({len(women)/len(titanic_df)*100:.1f}%)\")\n",
    "\n",
    "# Multiple conditions filtering\n",
    "young_women = titanic_df[(titanic_df['Sex'] == 'female') & (titanic_df['Age'] < 30)]\n",
    "print(f\"\\nYoung women (under 30): {len(young_women)}\")\n",
    "\n",
    "elite_survivors = titanic_df[\n",
    "    (titanic_df['Sex'] == 'female') &\n",
    "    (titanic_df['Pclass'] == 1) &\n",
    "    (titanic_df['Survived'] == 1)\n",
    "]\n",
    "print(f\"First-class women who survived: {len(elite_survivors)}\")\n",
    "print(\"\\nExample: Elite survivors\")\n",
    "print(elite_survivors[['Name', 'Age', 'Pclass', 'Fare']].head())"
   ]
  },
  {
   "cell_type": "markdown",
   "id": "a7f190d1-a63b-4126-8a55-e1646f9e8dd7",
   "metadata": {},
   "source": [
    "## 3. Sorting and Ordering Data\n",
    "\n",
    "The **`sort_values()`** method arranges your data by the values in one or more columns.\n",
    "\n",
    "* **Ascending vs. Descending:** Use `ascending=False` for descending order.\n",
    "* **Multi-Column Sort:** Pass a list of columns and a corresponding list of boolean values for the sort order."
   ]
  },
  {
   "cell_type": "code",
   "execution_count": 10,
   "id": "f578a3ef-a296-4a1f-b798-bd5dc519284d",
   "metadata": {},
   "outputs": [
    {
     "name": "stdout",
     "output_type": "stream",
     "text": [
      "Most expensive tickets:\n",
      "                                   Name      Fare  Pclass\n",
      "679  Cardeza, Mr. Thomas Drake Martinez  512.3292       1\n",
      "258                    Ward, Miss. Anna  512.3292       1\n",
      "737              Lesurer, Mr. Gustave J  512.3292       1\n",
      "88           Fortune, Miss. Mabel Helen  263.0000       1\n",
      "438                   Fortune, Mr. Mark  263.0000       1\n",
      "\n",
      "Sorted by Class (1→3), then by highest Fare within class:\n",
      "                                      Name  Pclass      Fare  Survived\n",
      "258                       Ward, Miss. Anna       1  512.3292         1\n",
      "679     Cardeza, Mr. Thomas Drake Martinez       1  512.3292         1\n",
      "737                 Lesurer, Mr. Gustave J       1  512.3292         1\n",
      "27          Fortune, Mr. Charles Alexander       1  263.0000         0\n",
      "88              Fortune, Miss. Mabel Helen       1  263.0000         1\n",
      "341         Fortune, Miss. Alice Elizabeth       1  263.0000         1\n",
      "438                      Fortune, Mr. Mark       1  263.0000         0\n",
      "311             Ryerson, Miss. Emily Borie       1  262.3750         1\n",
      "742  Ryerson, Miss. Susan Parker \"Suzette\"       1  262.3750         1\n",
      "118               Baxter, Mr. Quigg Edmond       1  247.5208         0\n"
     ]
    }
   ],
   "source": [
    "# Basic sorting by one column\n",
    "by_fare = titanic_df.sort_values(by='Fare', ascending=False)\n",
    "print(\"Most expensive tickets:\")\n",
    "print(by_fare[['Name', 'Fare', 'Pclass']].head())\n",
    "\n",
    "# Multi-column sorting\n",
    "by_class_fare = titanic_df.sort_values(by=['Pclass', 'Fare'], ascending=[True, False])\n",
    "print(\"\\nSorted by Class (1→3), then by highest Fare within class:\")\n",
    "print(by_class_fare[['Name', 'Pclass', 'Fare', 'Survived']].head(10))"
   ]
  },
  {
   "cell_type": "markdown",
   "id": "ac196ae6-7d35-4949-92aa-8728af785320",
   "metadata": {},
   "source": [
    "## 4. Aggregation with GroupBy\n",
    "\n",
    "**`groupby()`** is arguably the most powerful data analysis tool in Pandas. It allows you to **Split** the data (by category), **Apply** a function (like `mean()`, `sum()`, `count()`), and **Combine** the results. This is the foundation of statistical summarization."
   ]
  },
  {
   "cell_type": "code",
   "execution_count": 11,
   "id": "76d66cb2-272c-4baf-96bb-caad0dd2b4ed",
   "metadata": {},
   "outputs": [
    {
     "name": "stdout",
     "output_type": "stream",
     "text": [
      "Survival rate by gender:\n",
      "  Female: 74.20%\n",
      "  Male: 18.89%\n",
      "\n",
      "Survival rate by class:\n",
      "  Class 1: 62.96%\n",
      "  Class 2: 47.28%\n",
      "  Class 3: 24.24%\n",
      "\n",
      "Average age by gender and class:\n",
      "Sex     Pclass\n",
      "female  1         34.6\n",
      "        2         28.7\n",
      "        3         21.8\n",
      "male    1         41.3\n",
      "        2         30.7\n",
      "        3         26.5\n",
      "Name: Age, dtype: float64\n"
     ]
    }
   ],
   "source": [
    "# Survival rate by gender\n",
    "gender_survival = titanic_df.groupby('Sex')['Survived'].mean()\n",
    "print(\"Survival rate by gender:\")\n",
    "for gender, rate in gender_survival.items():\n",
    "    print(f\"  {gender.capitalize()}: {rate:.2%}\")\n",
    "\n",
    "# Survival rate by class\n",
    "class_survival = titanic_df.groupby('Pclass')['Survived'].mean()\n",
    "print(f\"\\nSurvival rate by class:\")\n",
    "for pclass, rate in class_survival.items():\n",
    "    print(f\"  Class {pclass}: {rate:.2%}\")\n",
    "\n",
    "# Multi-variable GroupBy\n",
    "age_by_gender_class = titanic_df.groupby(['Sex', 'Pclass'])['Age'].mean()\n",
    "print(f\"\\nAverage age by gender and class:\")\n",
    "print(age_by_gender_class.round(1))"
   ]
  },
  {
   "cell_type": "code",
   "execution_count": 12,
   "id": "7ee3dc1c-c4aa-42c5-a6d1-dd6167a3da74",
   "metadata": {},
   "outputs": [
    {
     "name": "stdout",
     "output_type": "stream",
     "text": [
      "\n",
      "\n",
      "KEY INSIGHTS FROM DATA MANIPULATION\n",
      "===================================\n",
      "- Female survival rate: 74.2%\n",
      "- Male survival rate: 18.9%\n",
      "- First class survival: 63.0%\n",
      "- Third class survival: 24.2%\n",
      "\n",
      "Next Steps:\n",
      "- Handle missing Age and Cabin data properly (imputation).\n",
      "- Create new, engineered features (e.g., FamilySize, Title).\n",
      "- Introduce basic data visualization.\n",
      "\n",
      "\n",
      "Saved datasets:\n",
      "- Women passengers: data-visualization/data/titanic_women.csv (314 rows)\n",
      "- Complete data: data-visualization/data/titanic_complete.csv (712 rows)\n"
     ]
    }
   ],
   "source": [
    "# Redefine filtered DataFrames needed for summary and export\n",
    "women = titanic_df[titanic_df['Sex'] == 'female']\n",
    "older_passengers = titanic_df[titanic_df['Age'] > 30]\n",
    "young_women = titanic_df[(titanic_df['Sex'] == 'female') & (titanic_df['Age'] < 30)]\n",
    "first_class = titanic_df[titanic_df['Pclass'] == 1]\n",
    "\n",
    "\n",
    "summary = f\"\"\"\n",
    "KEY INSIGHTS FROM DATA MANIPULATION\n",
    "===================================\n",
    "- Female survival rate: {titanic_df[titanic_df['Sex'] == 'female']['Survived'].mean():.1%}\n",
    "- Male survival rate: {titanic_df[titanic_df['Sex'] == 'male']['Survived'].mean():.1%}\n",
    "- First class survival: {titanic_df[titanic_df['Pclass'] == 1]['Survived'].mean():.1%}\n",
    "- Third class survival: {titanic_df[titanic_df['Pclass'] == 3]['Survived'].mean():.1%}\n",
    "\n",
    "Next Steps:\n",
    "- Handle missing Age and Cabin data properly (imputation).\n",
    "- Create new, engineered features (e.g., FamilySize, Title).\n",
    "- Introduce basic data visualization.\n",
    "\"\"\"\n",
    "print(f\"\\n{summary}\")\n",
    "\n",
    "# Save filtered datasets for further analysis\n",
    "os.makedirs('data-visualization/data', exist_ok=True)\n",
    "women.to_csv('data-visualization/data/titanic_women.csv', index=False)\n",
    "complete_data = titanic_df.dropna(subset=['Age', 'Embarked'])\n",
    "complete_data.to_csv('data-visualization/data/titanic_complete.csv', index=False)\n",
    "\n",
    "print(f\"\\nSaved datasets:\")\n",
    "print(f\"- Women passengers: data-visualization/data/titanic_women.csv ({len(women)} rows)\")\n",
    "print(f\"- Complete data: data-visualization/data/titanic_complete.csv ({len(complete_data)} rows)\")"
   ]
  },
  {
   "cell_type": "code",
   "execution_count": null,
   "id": "d0af70e3-ce64-464d-ae2a-66eb59125c5d",
   "metadata": {},
   "outputs": [],
   "source": []
  }
 ],
 "metadata": {
  "kernelspec": {
   "display_name": "Python [conda env:base] *",
   "language": "python",
   "name": "conda-base-py"
  },
  "language_info": {
   "codemirror_mode": {
    "name": "ipython",
    "version": 3
   },
   "file_extension": ".py",
   "mimetype": "text/x-python",
   "name": "python",
   "nbconvert_exporter": "python",
   "pygments_lexer": "ipython3",
   "version": "3.13.5"
  }
 },
 "nbformat": 4,
 "nbformat_minor": 5
}
