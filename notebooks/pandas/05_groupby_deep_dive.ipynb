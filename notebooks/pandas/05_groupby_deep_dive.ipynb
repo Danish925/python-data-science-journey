{
 "cells": [
  {
   "cell_type": "markdown",
   "id": "4fa10114-513e-4d66-9c12-b30baacf76e6",
   "metadata": {},
   "source": [
    "# ⚙️ Part 5: Advanced GroupBy, Aggregation, and Transformation\n",
    "\n",
    "**Goal:** To move beyond basic aggregation and master powerful Pandas techniques like multi-column grouping, custom aggregations, and the critical difference between **Aggregate** and **Transform** operations.\n",
    "\n",
    "---\n",
    "### Key Learning Objectives\n",
    "1.  Understand the structure of a Pandas **GroupBy Object**.\n",
    "2.  Perform multi-level grouping and reshape output using `unstack()`.\n",
    "3.  Use the `agg()` function for running multiple statistics on multiple columns.\n",
    "4.  Implement custom logic using `.apply()` and `.transform()`.\n",
    "5.  Filter groups based on aggregate conditions using `.filter()`."
   ]
  },
  {
   "cell_type": "code",
   "execution_count": 1,
   "id": "72df6430-cc14-4c5e-9312-f082233fc482",
   "metadata": {},
   "outputs": [
    {
     "name": "stdout",
     "output_type": "stream",
     "text": [
      "✅ Loaded titanic_with_features.csv\n",
      "Dataset shape: (891, 15)\n",
      "Columns: ['PassengerId', 'Survived', 'Pclass', 'Name', 'Sex', 'Age', 'SibSp', 'Parch', 'Fare', 'Embarked', 'AgeGroup', 'FamilySize', 'IsAlone', 'Title_simple', 'Deck']\n"
     ]
    }
   ],
   "source": [
    "import pandas as pd\n",
    "import numpy as np\n",
    "import os\n",
    "\n",
    "# Load our cleaned and featured data \n",
    "# We use the final data set from the previous notebook\n",
    "try:\n",
    "    titanic_df = pd.read_csv('data-visualization/data/titanic_with_features.csv')\n",
    "    print(\"✅ Loaded titanic_with_features.csv\")\n",
    "except FileNotFoundError:\n",
    "    url = 'https://raw.githubusercontent.com/datasciencedojo/datasets/master/titanic.csv'\n",
    "    titanic_df = pd.read_csv(url)\n",
    "    print(\"❌ Error: Missing featured data. Loaded original data for structure demo.\")\n",
    "\n",
    "print(f\"Dataset shape: {titanic_df.shape}\")\n",
    "print(f\"Columns: {list(titanic_df.columns)}\")"
   ]
  },
  {
   "cell_type": "markdown",
   "id": "1ab6d671-86e1-4a92-92d5-048c7589e9bf",
   "metadata": {},
   "source": [
    "## 1. The GroupBy Object\n",
    "\n",
    "The `groupby()` method doesn't immediately perform calculations; it creates a special **GroupBy Object**. This object holds the instructions on *how* to split the DataFrame.\n",
    "\n",
    "We use methods like `.ngroups` and `.size()` to inspect the groups before calculating anything."
   ]
  },
  {
   "cell_type": "code",
   "execution_count": 2,
   "id": "89491013-76f4-423a-b96a-c83f63fc5ac3",
   "metadata": {},
   "outputs": [
    {
     "name": "stdout",
     "output_type": "stream",
     "text": [
      "Type of groupby object: <class 'pandas.core.groupby.generic.DataFrameGroupBy'>\n",
      "Number of groups: 2\n",
      "Group sizes:\n",
      "Sex\n",
      "female    314\n",
      "male      577\n",
      "dtype: int64\n"
     ]
    }
   ],
   "source": [
    "# SECTION 1: UNDERSTANDING GROUPBY (as in original script)\n",
    "\n",
    "grouped = titanic_df.groupby('Sex')\n",
    "print(f\"Type of groupby object: {type(grouped)}\")\n",
    "print(f\"Number of groups: {grouped.ngroups}\")\n",
    "print(f\"Group sizes:\")\n",
    "print(grouped.size())"
   ]
  },
  {
   "cell_type": "markdown",
   "id": "371b3b9f-0427-42a1-abb7-4f4957b17c14",
   "metadata": {},
   "source": [
    "## 2. Basic GroupBy Aggregation\n",
    "\n",
    "Aggregation is when you collapse multiple rows into a single value (e.g., calculating the mean).\n",
    "\n",
    "* **Single Stat:** Applying a single method (like `.mean()` or `.count()`) after grouping.\n",
    "* **`.describe()`:** Automatically calculates a full statistical summary for numeric columns within each group."
   ]
  },
  {
   "cell_type": "code",
   "execution_count": 3,
   "id": "456697f6-72a2-4706-8f24-435470491dde",
   "metadata": {},
   "outputs": [
    {
     "name": "stdout",
     "output_type": "stream",
     "text": [
      "Survival rate by gender:\n",
      "Sex\n",
      "female    0.742038\n",
      "male      0.188908\n",
      "Name: Survived, dtype: float64\n",
      "Type: <class 'pandas.core.series.Series'>\n",
      "\n",
      "Multiple statistics at once using describe():\n",
      "        count       mean        std   min   25%   50%   75%   max\n",
      "Sex                                                              \n",
      "female  314.0  27.261146  13.111827  0.75  21.0  24.0  35.0  63.0\n",
      "male    577.0  30.119879  13.311447  0.42  23.0  27.0  37.0  80.0\n"
     ]
    }
   ],
   "source": [
    "# SECTION 2: BASIC GROUPBY OPERATIONS (as in original script)\n",
    "\n",
    "print(\"Survival rate by gender:\")\n",
    "gender_survival = titanic_df.groupby('Sex')['Survived'].mean()\n",
    "print(gender_survival)\n",
    "print(f\"Type: {type(gender_survival)}\")\n",
    "\n",
    "print(\"\\nMultiple statistics at once using describe():\")\n",
    "gender_stats = titanic_df.groupby('Sex')['Age'].describe()\n",
    "print(gender_stats)"
   ]
  },
  {
   "cell_type": "markdown",
   "id": "221a6fa1-9ec4-44f8-8836-07e9dbde79a5",
   "metadata": {},
   "source": [
    "## 3. Multi-Column Grouping and Reshaping\n",
    "\n",
    "Grouping by two or more columns creates a **MultiIndex** (hierarchical index).\n",
    "\n",
    "* **Hierarchical Index:** The output Series has two or more index levels (e.g., `Sex` and `Pclass`).\n",
    "* **`.unstack()`:** Pivots the innermost index level (e.g., `Pclass`) into columns, making the data easier to read and visualize."
   ]
  },
  {
   "cell_type": "code",
   "execution_count": 4,
   "id": "9fe6b1f7-a6ab-4afa-a357-ff351f85e346",
   "metadata": {},
   "outputs": [
    {
     "name": "stdout",
     "output_type": "stream",
     "text": [
      "Survival rate by Sex AND Passenger Class:\n",
      "Sex     Pclass\n",
      "female  1         0.968085\n",
      "        2         0.921053\n",
      "        3         0.500000\n",
      "male    1         0.368852\n",
      "        2         0.157407\n",
      "        3         0.135447\n",
      "Name: Survived, dtype: float64\n",
      "\n",
      "This creates a hierarchical index (MultiIndex)\n",
      "Index levels: ['Sex', 'Pclass']\n",
      "\n",
      "Unstacked view (like a pivot table):\n",
      "Pclass         1         2         3\n",
      "Sex                                 \n",
      "female  0.968085  0.921053  0.500000\n",
      "male    0.368852  0.157407  0.135447\n"
     ]
    }
   ],
   "source": [
    "# SECTION 3: MULTIPLE COLUMN GROUPING (as in original script)\n",
    "\n",
    "print(\"Survival rate by Sex AND Passenger Class:\")\n",
    "multi_group = titanic_df.groupby(['Sex', 'Pclass'])['Survived'].mean()\n",
    "print(multi_group)\n",
    "\n",
    "print(\"\\nThis creates a hierarchical index (MultiIndex)\")\n",
    "print(f\"Index levels: {multi_group.index.names}\")\n",
    "\n",
    "print(\"\\nUnstacked view (like a pivot table):\")\n",
    "pivot_view = multi_group.unstack()\n",
    "print(pivot_view)"
   ]
  },
  {
   "cell_type": "markdown",
   "id": "7ecf5341-4dc3-4195-90a1-597117fe208a",
   "metadata": {},
   "source": [
    "## 4. Advanced Aggregation (`.agg()`)\n",
    "\n",
    "The `.agg()` method provides fine-grained control over aggregation:\n",
    "\n",
    "* **Multiple Stats on One Column:** Pass a list of function names (e.g., `['mean', 'median', 'std']`).\n",
    "* **Different Stats on Different Columns:** Pass a dictionary mapping column names to lists of functions.\n",
    "* **Named Aggregations:** Pass keyword arguments to rename the output columns directly."
   ]
  },
  {
   "cell_type": "code",
   "execution_count": 5,
   "id": "7e8dab21-5097-443b-b484-f6ac39b3d810",
   "metadata": {},
   "outputs": [
    {
     "name": "stdout",
     "output_type": "stream",
     "text": [
      "Different functions for different columns:\n",
      "              Age              Fare           Survived\n",
      "             mean median       mean       max      sum\n",
      "Sex                                                   \n",
      "female  27.261146   24.0  44.479818  512.3292      233\n",
      "male    30.119879   27.0  25.523893  512.3292      109\n",
      "\n",
      "Named aggregations (cleaner output):\n",
      "          avg_age  median_age  total_survivors  passenger_count\n",
      "Sex                                                            \n",
      "female  27.261146        24.0              233              314\n",
      "male    30.119879        27.0              109              577\n"
     ]
    }
   ],
   "source": [
    "# SECTION 4: ADVANCED AGGREGATION (as in original script)\n",
    "\n",
    "print(\"Different functions for different columns:\")\n",
    "complex_agg = titanic_df.groupby('Sex').agg({\n",
    "    'Age': ['mean', 'median'],\n",
    "    'Fare': ['mean', 'max'],\n",
    "    'Survived': 'sum'\n",
    "})\n",
    "print(complex_agg)\n",
    "\n",
    "print(\"\\nNamed aggregations (cleaner output):\")\n",
    "named_agg = titanic_df.groupby('Sex').agg(\n",
    "    avg_age=('Age', 'mean'),\n",
    "    median_age=('Age', 'median'),\n",
    "    total_survivors=('Survived', 'sum'),\n",
    "    passenger_count=('PassengerId', 'count')\n",
    ")\n",
    "print(named_agg)"
   ]
  },
  {
   "cell_type": "markdown",
   "id": "eddf6b95-5989-47f3-93de-9e28db4c7bf6",
   "metadata": {},
   "source": [
    "## 5. Transform vs. Aggregate\n",
    "\n",
    "This is a critical distinction in Pandas:\n",
    "\n",
    "* **Aggregate (`.agg()`):** Returns a result that has **fewer rows** than the original DataFrame (e.g., mean age by class).\n",
    "* **Transform (`.transform()`):** Returns a result with the **same number of rows** as the original, allowing the aggregate value to be added back to the DataFrame for comparison or calculation (e.g., calculating age deviation *within* each class)."
   ]
  },
  {
   "cell_type": "code",
   "execution_count": 9,
   "id": "153de4b0-659e-47b3-be0e-d1eb7c08f43f",
   "metadata": {},
   "outputs": [
    {
     "name": "stdout",
     "output_type": "stream",
     "text": [
      "Aggregate example - mean age by class:\n",
      "Shape: (3,)\n",
      "\n",
      "Transform example - subtract group mean from each value:\n",
      "First 10 rows showing original Age and Age minus class mean:\n",
      "   PassengerId  Pclass   Age  Age_minus_class_mean\n",
      "0            1       3  22.0             -2.802281\n",
      "1            2       1  38.0             -0.270463\n",
      "2            3       3  26.0              1.197719\n",
      "3            4       1  35.0             -3.270463\n",
      "4            5       3  35.0             10.197719\n",
      "5            6       3  25.0              0.197719\n",
      "6            7       1  54.0             15.729537\n",
      "7            8       3   2.0            -22.802281\n",
      "8            9       3  27.0              2.197719\n",
      "9           10       2  14.0            -15.863207\n",
      "\n",
      "Original DataFrame shape: (891, 16)\n",
      "Transform kept the same number of rows!\n"
     ]
    }
   ],
   "source": [
    "# SECTION 5: TRANSFORM VS AGGREGATE (as in original script)\n",
    "\n",
    "print(\"Aggregate example - mean age by class:\")\n",
    "agg_result = titanic_df.groupby('Pclass')['Age'].mean()\n",
    "print(f\"Shape: {agg_result.shape}\")\n",
    "\n",
    "print(\"\\nTransform example - subtract group mean from each value:\")\n",
    "titanic_df['Age_minus_class_mean'] = titanic_df.groupby('Pclass')['Age'].transform(lambda x: x - x.mean())\n",
    "print(\"First 10 rows showing original Age and Age minus class mean:\")\n",
    "print(titanic_df[['PassengerId', 'Pclass', 'Age', 'Age_minus_class_mean']].head(10))\n",
    "\n",
    "print(f\"\\nOriginal DataFrame shape: {titanic_df.shape}\")\n",
    "print(\"Transform kept the same number of rows!\")"
   ]
  },
  {
   "cell_type": "markdown",
   "id": "88f66bad-e62e-42c2-948e-6b8dc832849a",
   "metadata": {},
   "source": [
    "## 6. Filtering Groups\n",
    "\n",
    "The `.filter()` method is used to keep or discard entire groups based on a condition of the group's aggregated value (e.g., only keep groups where the count is > 100, or the mean survival rate is > 50%)."
   ]
  },
  {
   "cell_type": "code",
   "execution_count": 8,
   "id": "20620e80-bf62-47a7-ae9c-b94ad333b271",
   "metadata": {},
   "outputs": [
    {
     "name": "stdout",
     "output_type": "stream",
     "text": [
      "Only show passenger classes with more than 100 passengers:\n",
      "Original shape: (891, 16)\n",
      "Filtered shape: (891, 16)\n",
      "Passenger counts by class in filtered data:\n",
      "Pclass\n",
      "1    216\n",
      "2    184\n",
      "3    491\n",
      "Name: count, dtype: int64\n",
      "\n",
      "Only show groups where survival rate > 50%:\n",
      "Gender distribution in high-survival groups:\n",
      "Sex\n",
      "female    314\n",
      "Name: count, dtype: int64\n"
     ]
    }
   ],
   "source": [
    "# SECTION 6: FILTERING GROUPS (as in original script)\n",
    "\n",
    "print(\"Only show passenger classes with more than 100 passengers:\")\n",
    "large_classes = titanic_df.groupby('Pclass').filter(lambda x: len(x) > 100)\n",
    "print(f\"Original shape: {titanic_df.shape}\")\n",
    "print(f\"Filtered shape: {large_classes.shape}\")\n",
    "print(\"Passenger counts by class in filtered data:\")\n",
    "print(large_classes['Pclass'].value_counts().sort_index())\n",
    "\n",
    "print(\"\\nOnly show groups where survival rate > 50%:\")\n",
    "high_survival = titanic_df.groupby('Sex').filter(lambda x: x['Survived'].mean() > 0.5)\n",
    "print(\"Gender distribution in high-survival groups:\")\n",
    "print(high_survival['Sex'].value_counts())"
   ]
  },
  {
   "cell_type": "markdown",
   "id": "868f4c5f-e48b-4726-9736-665dd1f83a74",
   "metadata": {},
   "source": [
    "## 7. Real-World Analysis with GroupBy\n",
    "\n",
    "Using the techniques above, we can now answer complex, business-relevant questions quickly. Here, we leverage the **featured data** created in the previous notebook."
   ]
  },
  {
   "cell_type": "code",
   "execution_count": 10,
   "id": "8f80d2a9-5d10-4664-8a1e-c72d3aa64b8f",
   "metadata": {},
   "outputs": [
    {
     "name": "stdout",
     "output_type": "stream",
     "text": [
      "1. Survival rate by passenger class:\n",
      "        Total_Passengers  Survivors  Survival_Rate\n",
      "Pclass                                            \n",
      "1                    216        136          0.630\n",
      "2                    184         87          0.473\n",
      "3                    491        119          0.242\n",
      "\n",
      "2. Average age of survivors vs non-survivors by gender:\n",
      "        Non_Survivors  Survivors\n",
      "Sex                             \n",
      "female           24.3       28.3\n",
      "male             30.7       27.7\n",
      "\n",
      "3. Survival rate by title (using engineered feature):\n",
      "              Count  Survival_Rate\n",
      "Title_simple                      \n",
      "Mrs             125          0.792\n",
      "Miss            182          0.698\n",
      "Master           40          0.575\n",
      "Other            27          0.444\n",
      "Mr              517          0.157\n"
     ]
    }
   ],
   "source": [
    "# SECTION 7: REAL-WORLD ANALYSIS (as in original script)\n",
    "\n",
    "print(\"1. Survival rate by passenger class:\")\n",
    "class_survival = titanic_df.groupby('Pclass')['Survived'].agg(['count', 'sum', 'mean'])\n",
    "class_survival.columns = ['Total_Passengers', 'Survivors', 'Survival_Rate']\n",
    "class_survival = class_survival.round(3)\n",
    "print(class_survival)\n",
    "\n",
    "print(\"\\n2. Average age of survivors vs non-survivors by gender:\")\n",
    "age_by_survival = titanic_df.groupby(['Sex', 'Survived'])['Age'].mean().unstack()\n",
    "age_by_survival.columns = ['Non_Survivors', 'Survivors']\n",
    "print(age_by_survival.round(1))\n",
    "\n",
    "print(\"\\n3. Survival rate by title (using engineered feature):\")\n",
    "title_survival = titanic_df.groupby('Title_simple')['Survived'].agg(['count', 'mean'])\n",
    "title_survival.columns = ['Count', 'Survival_Rate']\n",
    "title_survival = title_survival.sort_values('Survival_Rate', ascending=False)\n",
    "print(title_survival.head(5).round(3))"
   ]
  },
  {
   "cell_type": "markdown",
   "id": "0b8613cb-81de-43fb-89e6-bd99f9a31b4e",
   "metadata": {},
   "source": [
    "## 8. Practice and Conclusion\n",
    "\n",
    "These final examples demonstrate complex, multi-level analysis and performance techniques essential for large-scale data science projects.\n",
    "\n",
    "* **Complexity:** Grouping by three variables and aggregating different functions.\n",
    "* **Performance:** Using efficient `.agg()` over multiple single operations."
   ]
  },
  {
   "cell_type": "code",
   "execution_count": 11,
   "id": "7c8e773d-ea8f-4424-a1d4-e0006bf7c8dd",
   "metadata": {},
   "outputs": [
    {
     "name": "stdout",
     "output_type": "stream",
     "text": [
      "Complex analysis: Age groups by gender and class (using featured data)\n",
      "                        PassengerId_count  Survived_sum  Survived_mean  \\\n",
      "Sex    Pclass AgeGroup                                                   \n",
      "female 1      Adult                    93            91           0.98   \n",
      "              Child                     1             0           0.00   \n",
      "       2      Adult                    68            62           0.91   \n",
      "              Child                     8             8           1.00   \n",
      "       3      Adult                   121            61           0.50   \n",
      "              Child                    23            11           0.48   \n",
      "male   1      Adult                   113            41           0.36   \n",
      "              Child                     3             3           1.00   \n",
      "              Elder                     6             1           0.17   \n",
      "       2      Adult                    97             8           0.08   \n",
      "\n",
      "                        Fare_mean  \n",
      "Sex    Pclass AgeGroup             \n",
      "female 1      Adult        105.64  \n",
      "              Child        151.55  \n",
      "       2      Adult         20.98  \n",
      "              Child         30.35  \n",
      "       3      Adult         15.05  \n",
      "              Child         21.75  \n",
      "male   1      Adult         67.03  \n",
      "              Child        117.80  \n",
      "              Elder         45.61  \n",
      "       2      Adult         19.23  \n",
      "\n",
      "--- KEY LEARNING CONCLUSION ---\n",
      "Cleaned data enables detailed grouping, feature-based analysis, and answering key business questions.\n",
      "We mastered grouping, aggregation, transformation, filtering, and performance tips with Pandas!\n"
     ]
    }
   ],
   "source": [
    "# SECTION 8: ADVANCED TECHNIQUES (as in original script)\n",
    "\n",
    "print(\"Complex analysis: Age groups by gender and class (using featured data)\")\n",
    "age_group_analysis = titanic_df.groupby(['Sex', 'Pclass', 'AgeGroup']).agg({\n",
    "    'PassengerId': 'count',\n",
    "    'Survived': ['sum', 'mean'],\n",
    "    'Fare': 'mean'\n",
    "}).round(2)\n",
    "\n",
    "age_group_analysis.columns = ['_'.join(col).strip() for col in age_group_analysis.columns]\n",
    "print(age_group_analysis.head(10))\n",
    "\n",
    "\n",
    "# Final Summary\n",
    "print(\"\\n--- KEY LEARNING CONCLUSION ---\")\n",
    "print(\"Cleaned data enables detailed grouping, feature-based analysis, and answering key business questions.\")\n",
    "print(\"We mastered grouping, aggregation, transformation, filtering, and performance tips with Pandas!\")"
   ]
  },
  {
   "cell_type": "code",
   "execution_count": null,
   "id": "16aa1961-9360-4562-a96c-09e7a4087355",
   "metadata": {},
   "outputs": [],
   "source": []
  }
 ],
 "metadata": {
  "kernelspec": {
   "display_name": "Python [conda env:base] *",
   "language": "python",
   "name": "conda-base-py"
  },
  "language_info": {
   "codemirror_mode": {
    "name": "ipython",
    "version": 3
   },
   "file_extension": ".py",
   "mimetype": "text/x-python",
   "name": "python",
   "nbconvert_exporter": "python",
   "pygments_lexer": "ipython3",
   "version": "3.13.5"
  }
 },
 "nbformat": 4,
 "nbformat_minor": 5
}
