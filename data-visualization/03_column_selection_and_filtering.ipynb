import pandas as pd

# Load the Titanic data we saved from Day 2
# If you don't have the saved file, uncomment the URL line below
titanic_df = pd.read_csv('titanic_data.csv')
# titanic_df = pd.read_csv('https://raw.githubusercontent.com/datasciencedojo/datasets/master/titanic.csv')

print("Data loaded successfully!")
print(f"Shape: {titanic_df.shape}")
print(f"Columns: {list(titanic_df.columns)}\n")


print("=== SINGLE COLUMN SELECTION ===")

# Method 1: Bracket notation (most common)
names = titanic_df['Name']
print(f"Type: {type(names)}")  # Series
print("First 5 names:")
print(names.head())

# Method 2: Dot notation (only works for simple column names)
ages = titanic_df.Age  # No spaces or special characters in 'Age'
print(f"\nFirst 5 ages:")
print(ages.head())

# Quick stats on a single column
print(f"\nAge statistics:")
print(f"Average age: {titanic_df['Age'].mean():.1f}")
print(f"Youngest: {titanic_df['Age'].min()}")
print(f"Oldest: {titanic_df['Age'].max()}\n")


print("=== MULTIPLE COLUMN SELECTION ===")

# Select basic passenger info
basic_info = titanic_df[['Name', 'Age', 'Sex', 'Survived']]
print(f"Type: {type(basic_info)}")  # DataFrame
print("Basic info (first 5 rows):")
print(basic_info.head())

# Select all numeric columns for analysis
numeric_cols = titanic_df[['Age', 'Fare', 'Pclass', 'Survived']]
print(f"\nNumeric data shape: {numeric_cols.shape}")
print(numeric_cols.describe())

# Pro tip: Save column lists for reuse
important_cols = ['Name', 'Age', 'Sex', 'Pclass', 'Survived', 'Fare']
analysis_df = titanic_df[important_cols]
print(f"\nAnalysis dataset shape: {analysis_df.shape}\n")


print("=== SELECT BY DATA TYPE ===")

# Select all numeric columns automatically
numeric_data = titanic_df.select_dtypes(include=['number'])
print("Numeric columns:")
print(numeric_data.dtypes)
print(numeric_data.head())

# Select all text/string columns
text_data = titanic_df.select_dtypes(include=['object'])
print(f"\nText columns: {list(text_data.columns)}")

# Mixed selection: numbers + specific text column
mixed_data = titanic_df.select_dtypes(include=['number']).copy()
mixed_data['Sex'] = titanic_df['Sex']  # Add the Sex column
print(f"\nMixed dataset columns: {list(mixed_data.columns)}\n")


print("=== SINGLE CONDITION FILTERING ===")

# Find all female passengers
women = titanic_df[titanic_df['Sex'] == 'female']
print(f"Total passengers: {len(titanic_df)}")
print(f"Female passengers: {len(women)} ({len(women)/len(titanic_df)*100:.1f}%)")

# Find passengers older than 30
older_passengers = titanic_df[titanic_df['Age'] > 30]
print(f"Passengers over 30: {len(older_passengers)}")

# Find first-class passengers
first_class = titanic_df[titanic_df['Pclass'] == 1]
print(f"First class passengers: {len(first_class)}")

# Find survivors
survivors = titanic_df[titanic_df['Survived'] == 1]
print(f"Survivors: {len(survivors)} ({len(survivors)/len(titanic_df)*100:.1f}%)")

print("\nExample: First 5 female passengers")
print(women[['Name', 'Age', 'Pclass', 'Survived']].head())



print(f"\n=== MULTIPLE CONDITIONS FILTERING ===")

# AND condition (&): Both conditions must be True
# Find young women (female AND under 30)
young_women = titanic_df[(titanic_df['Sex'] == 'female') & (titanic_df['Age'] < 30)]
print(f"Young women (under 30): {len(young_women)}")

# OR condition (|): Either condition can be True  
# Find first class OR survivors
first_or_survivor = titanic_df[(titanic_df['Pclass'] == 1) | (titanic_df['Survived'] == 1)]
print(f"First class OR survivors: {len(first_or_survivor)}")

# Complex condition: Young women in first class who survived
elite_survivors = titanic_df[
    (titanic_df['Sex'] == 'female') & 
    (titanic_df['Age'] < 30) & 
    (titanic_df['Pclass'] == 1) &
    (titanic_df['Survived'] == 1)
]
print(f"Young first-class women who survived: {len(elite_survivors)}")

print("\nExample: Elite survivors")
print(elite_survivors[['Name', 'Age', 'Pclass', 'Fare']].head())

# NOT condition (~): Opposite of condition
# Find non-survivors (died)
died = titanic_df[titanic_df['Survived'] == 0]  # or titanic_df[titanic_df['Survived'] == 0]
print(f"\nDied: {len(died)} passengers\n")



print("=== BASIC SORTING ===")

# Sort by age (youngest first)
by_age = titanic_df.sort_values(by='Age')
print("Youngest passengers:")
print(by_age[['Name', 'Age', 'Sex', 'Pclass']].head())

# Sort by age (oldest first)
by_age_desc = titanic_df.sort_values(by='Age', ascending=False)
print("\nOldest passengers:")
print(by_age_desc[['Name', 'Age', 'Sex', 'Pclass']].head())

# Sort by fare (most expensive first)
by_fare = titanic_df.sort_values(by='Fare', ascending=False)
print("\nMost expensive tickets:")
print(by_fare[['Name', 'Fare', 'Pclass', 'Survived']].head())



print(f"\n=== MULTI-COLUMN SORTING ===")

# Sort by class first, then by fare within each class
by_class_fare = titanic_df.sort_values(by=['Pclass', 'Fare'], ascending=[True, False])
print("Sorted by class (1→3), then by highest fare within class:")
print(by_class_fare[['Name', 'Pclass', 'Fare', 'Survived']].head(10))

# Sort by survival status, then by age
by_survival_age = titanic_df.sort_values(by=['Survived', 'Age'], ascending=[False, True])
print("\nSurvivors first (by age), then non-survivors (by age):")
print(by_survival_age[['Name', 'Age', 'Sex', 'Survived']].head(10))



print(f"\n=== QUICK INSIGHTS WITH GROUPBY ===")

# Survival rate by gender
gender_survival = titanic_df.groupby('Sex')['Survived'].mean()
print("Survival rate by gender:")
for gender, rate in gender_survival.items():
    print(f"  {gender.capitalize()}: {rate:.2%}")

# Survival rate by passenger class
class_survival = titanic_df.groupby('Pclass')['Survived'].mean()
print(f"\nSurvival rate by class:")
print(class_survival.round(1))
for pclass, rate in class_survival.items():
    print(f"  Class {pclass}: {rate:.2%}")

# Average age by gender and class
age_by_gender_class = titanic_df.groupby(['Sex', 'Pclass'])['Age'].mean()
print(f"\nAverage age by gender and class:")
print(age_by_gender_class.round(1))

# Count passengers by embarked port
embark_counts = titanic_df['Embarked'].value_counts()
print(f"\nPassengers by embarked port:")
print(embark_counts)



# Day 3 summary and export
summary = f"""
COLUMN SELECTION & FILTERING SUMMARY - Day 3
============================================

Data loaded: {titanic_df.shape[0]} passengers, {titanic_df.shape[1]} columns

Column Selection Learned:
- Single column: df['Name'] → Series
- Multiple columns: df[['Name', 'Age']] → DataFrame  
- By type: df.select_dtypes(include=['number']) → numeric only

Filtering Examples Applied:
- Female passengers: {len(titanic_df[titanic_df['Sex'] == 'female'])}
- Passengers over 30: {len(titanic_df[titanic_df['Age'] > 30])} (excluding NaN)
- Young women: {len(titanic_df[(titanic_df['Sex'] == 'female') & (titanic_df['Age'] < 30)])}
- First class: {len(titanic_df[titanic_df['Pclass'] == 1])}

Key Insights Discovered:
- Female survival rate: {titanic_df[titanic_df['Sex'] == 'female']['Survived'].mean():.1%}
- Male survival rate: {titanic_df[titanic_df['Sex'] == 'male']['Survived'].mean():.1%}
- First class survival: {titanic_df[titanic_df['Pclass'] == 1]['Survived'].mean():.1%}
- Third class survival: {titanic_df[titanic_df['Pclass'] == 3]['Survived'].mean():.1%}

Next Steps (Day 4):
- Handle missing Age and Cabin data properly
- Create new columns from existing data
- Learn advanced groupby operations
"""
print(f"\n{summary}")

# Save useful filtered datasets for Day 4
import os
os.makedirs('data-visualization/data', exist_ok=True)

# Save women passengers for further analysis
women = titanic_df[titanic_df['Sex'] == 'female']
women.to_csv('data-visualization/data/titanic_women.csv', index=False)

# Save complete passenger info (no missing critical data)
complete_data = titanic_df.dropna(subset=['Age', 'Embarked'])
complete_data.to_csv('data-visualization/data/titanic_complete.csv', index=False)

print(f"\nSaved datasets:")
print(f"- Women passengers: data-visualization/data/titanic_women.csv ({len(women)} rows)")
print(f"- Complete data: data-visualization/data/titanic_complete.csv ({len(complete_data)} rows)")
