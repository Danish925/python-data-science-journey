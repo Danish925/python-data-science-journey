{
 "cells": [
  {
   "cell_type": "markdown",
   "id": "d9a5c1e3-8c75-4e36-a5e4-f55b25b9b8ac",
   "metadata": {},
   "source": [
    "# 🐼 Part 1: Pandas Basics - DataFrame vs. Series\n",
    "\n",
    "**Goal:** To establish fundamental knowledge of the Pandas library, the workhorse of data science in Python. This notebook covers creating, inspecting, and understanding the core Pandas data structures.\n",
    "\n",
    "---\n",
    "### Key Learning Objectives\n",
    "1.  Understand the difference between a **DataFrame** (2D table) and a **Series** (1D column).\n",
    "2.  Learn how to create a simple DataFrame from a Python dictionary.\n",
    "3.  Use essential attributes for quick data inspection (`.shape`, `.columns`, `.dtypes`)."
   ]
  },
  {
   "cell_type": "code",
   "execution_count": 3,
   "id": "4617b8b4-f256-4b21-8906-c62dd8f4cfe8",
   "metadata": {},
   "outputs": [
    {
     "name": "stdout",
     "output_type": "stream",
     "text": [
      "--- Data Frame Preview ---\n",
      "      Name  Age      City\n",
      "0    Alice   25  New York\n",
      "1      Bob   30    London\n",
      "2  Charlie   35     Tokyo\n",
      "3    David   40     Paris\n"
     ]
    }
   ],
   "source": [
    "import pandas as pd\n",
    "import os\n",
    "\n",
    "# Build a tiny table from a Python dict\n",
    "data = {\n",
    "    'Name': ['Alice', 'Bob', 'Charlie', 'David'],\n",
    "    'Age': [25, 30, 35, 40],\n",
    "    'City': ['New York', 'London', 'Tokyo', 'Paris']\n",
    "}\n",
    "df = pd.DataFrame(data)\n",
    "\n",
    "print(\"--- Data Frame Preview ---\")\n",
    "print(df)"
   ]
  },
  {
   "cell_type": "markdown",
   "id": "87d8cfaa-d185-422d-8e93-76c215e02d01",
   "metadata": {},
   "source": [
    "## 2. Creating and Previewing a DataFrame\n",
    "\n",
    "A Pandas **DataFrame** is the most common object used for data analysis. It is essentially a 2-dimensional labeled data structure, similar to a SQL table or a spreadsheet. We typically create them by loading a file (like a CSV), but they can also be built directly from a Python dictionary, where the keys become the column headers."
   ]
  },
  {
   "cell_type": "code",
   "execution_count": 4,
   "id": "206fcc6b-ba55-4eca-9271-f34b91883803",
   "metadata": {},
   "outputs": [
    {
     "name": "stdout",
     "output_type": "stream",
     "text": [
      "Shape (Rows x Columns): (4, 3)\n",
      "Column Names: ['Name', 'Age', 'City']\n",
      "\n",
      "Data Types (Dtypes):\n",
      "Name    object\n",
      "Age      int64\n",
      "City    object\n",
      "dtype: object\n"
     ]
    }
   ],
   "source": [
    "print('Shape (Rows x Columns):', df.shape)\n",
    "print('Column Names:', list(df.columns))\n",
    "print('\\nData Types (Dtypes):')\n",
    "print(df.dtypes)"
   ]
  },
  {
   "cell_type": "markdown",
   "id": "900b9c8e-67d6-4e45-abb3-4995eeca3e76",
   "metadata": {},
   "source": [
    "## 3. Quick Inspection Attributes\n",
    "\n",
    "These attributes provide essential metadata about the DataFrame without needing to print the entire contents:\n",
    "\n",
    "* **`.shape`**: Returns a tuple of (rows, columns). Crucial for knowing the size of your dataset.\n",
    "* **`.columns`**: Lists all column headers.\n",
    "* **`.dtypes`**: Shows the data type for each column (e.g., `int64`, `object` for strings). Data types influence how you can perform calculations and analysis."
   ]
  },
  {
   "cell_type": "code",
   "execution_count": 5,
   "id": "111a42df-866b-4597-94f9-6a98e2466073",
   "metadata": {},
   "outputs": [
    {
     "name": "stdout",
     "output_type": "stream",
     "text": [
      "--- 'Name' Column Type ---\n",
      "<class 'pandas.core.series.Series'>\n",
      "\n",
      "--- Series Preview (Head) ---\n",
      "0      Alice\n",
      "1        Bob\n",
      "2    Charlie\n",
      "3      David\n",
      "Name: Name, dtype: object\n",
      "\n",
      "--- DataFrame Type ---\n",
      "<class 'pandas.core.frame.DataFrame'>\n"
     ]
    }
   ],
   "source": [
    "# Select a single column, which returns a Series\n",
    "names_series = df['Name']\n",
    "\n",
    "print(\"--- 'Name' Column Type ---\")\n",
    "print(type(names_series))  # <class 'pandas.core.series.Series'>\n",
    "\n",
    "print(\"\\n--- Series Preview (Head) ---\")\n",
    "print(names_series.head())\n",
    "\n",
    "print(\"\\n--- DataFrame Type ---\")\n",
    "print(type(df))            # <class 'pandas.core.frame.DataFrame'>"
   ]
  },
  {
   "cell_type": "markdown",
   "id": "37c08005-2437-467e-b90b-87cbcb6fd7b8",
   "metadata": {},
   "source": [
    "## 4. Understanding Series\n",
    "\n",
    "A **Series** is a one-dimensional labeled array, essentially a single column extracted from a DataFrame.\n",
    "\n",
    "| Feature | DataFrame | Series |\n",
    "| :--- | :--- | :--- |\n",
    "| **Dimensions** | 2D (Rows and Columns) | 1D (Single Column) |\n",
    "| **Data Type** | A collection of Series, potentially with mixed types | All elements must be the same data type |\n",
    "\n",
    "When you select a single column using bracket notation (`df['Name']`), Pandas returns a Series object."
   ]
  },
  {
   "cell_type": "code",
   "execution_count": 6,
   "id": "65701420-f2bb-4f3a-9020-9302e28b18fc",
   "metadata": {},
   "outputs": [
    {
     "name": "stdout",
     "output_type": "stream",
     "text": [
      "\n",
      "PANDAS BASICS QUICK REVIEW\n",
      "--------------------------\n",
      "Rows × Columns: 4 × 3\n",
      "Data Types:\n",
      "Name    object\n",
      "Age      int64\n",
      "City    object\n",
      "\n",
      "\n",
      "Saved demo file to: data-visualization/data/part1_demo_people.csv\n"
     ]
    }
   ],
   "source": [
    "# --- Summary Text (Optional, for an additional file or final section) ---\n",
    "summary = f\"\"\"\n",
    "PANDAS BASICS QUICK REVIEW\n",
    "--------------------------\n",
    "Rows × Columns: {df.shape[0]} × {df.shape[1]}\n",
    "Data Types:\n",
    "{df.dtypes.to_string()}\n",
    "\"\"\"\n",
    "print(summary)\n",
    "\n",
    "# --- File Export ---\n",
    "# Ensure the target directory exists and save the demo data\n",
    "os.makedirs('data-visualization/data', exist_ok=True)\n",
    "df.to_csv('data-visualization/data/part1_demo_people.csv', index=False)\n",
    "print('\\nSaved demo file to: data-visualization/data/part1_demo_people.csv')"
   ]
  },
  {
   "cell_type": "code",
   "execution_count": null,
   "id": "07d5c05a-526a-4fe0-8736-6ee0157bb23a",
   "metadata": {},
   "outputs": [],
   "source": []
  }
 ],
 "metadata": {
  "kernelspec": {
   "display_name": "Python [conda env:base] *",
   "language": "python",
   "name": "conda-base-py"
  },
  "language_info": {
   "codemirror_mode": {
    "name": "ipython",
    "version": 3
   },
   "file_extension": ".py",
   "mimetype": "text/x-python",
   "name": "python",
   "nbconvert_exporter": "python",
   "pygments_lexer": "ipython3",
   "version": "3.13.5"
  }
 },
 "nbformat": 4,
 "nbformat_minor": 5
}
